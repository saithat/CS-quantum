{
 "cells": [
  {
   "cell_type": "markdown",
   "metadata": {},
   "source": [
    "# Homework 1, due Friday Feb 14\n",
    "## Quantum Mechanics Fundamentals & Introduction to Python elements\n",
    "\n",
    "1. \n",
    "Using the Numpy .imag , .real , np.absolute() , .angle, Find:\n",
    "\n",
    "The modulus and angle of the complex numbers:\n",
    "$$\n",
    "c1 = 1.5 - i \\\\\n",
    "c2 = -1/2 + i\\sqrt{3}/2 \\\\\n",
    "c3 = 0.3 + 0.4i\n",
    "$$\n",
    "The real and imaginary part of the complex numbers:\n",
    "$$\n",
    "c4 = 0.8 \\cdot e^{-i\\cdot \\pi / 4} \\\\\n",
    "c5 = 1.0 \\cdot e^{ i\\cdot \\pi / 8} \\\\\n",
    "c6 = 1.0 \\cdot e^{ -i\\cdot \\pi / 8} \\\\\n",
    "c7 = 1.5 \\cdot e^{-i\\cdot 3\\pi /2} \n",
    "$$\n",
    "\n",
    "Using the matplotlib module plot the above complex numbers (c1,...,c7) in the complex plane (a regular 2D plane  with the real part as the x coordinate and the imag part as y coordinate).\n",
    "\n",
    "Plot as well a unit (radius=1) circle. Use different plotting settings (e.g. different color) for those numbers that can be state amplitudes (aka their squared modulus can be a probability)\n",
    "2. \n",
    "(i) Define the gates:\n",
    "$$ \n",
    "X = \\left( \\begin{array}{rr} 0 & 1 \\\\ 1 & 0 \\end{array}\\right), \\quad\n",
    "Y = \\left( \\begin{array}{rr} 0 & -i \\\\ i & 0 \\end{array}\\right), \\quad\n",
    "Z = \\left( \\begin{array}{rr} 1 & 0 \\\\ 0 & -1 \\end{array}\\right), \\quad\n",
    "H = \\dfrac{1}{\\sqrt{2}}\\left( \\begin{array}{rr} 1 & 1 \\\\ 1 & -1 \\end{array}\\right), \\quad\n",
    "$$\n",
    "as numpy 2D arrays.\n",
    "\n",
    "(ii) Define a function that returns `True` if the input matrix (Numpy 2D array) is Hermitian (a matrix $A$ is Hermitian if $(A^T)^*=A$ and input the gates X,Y,Z,H to your Hermitian checker function. \n",
    "\n",
    "(iii) Confirm the identities (using methods similar to the previous question)\n",
    "$$ \n",
    "HZH = X \\\\\n",
    "HXH = Z \\\\\n",
    "HYH =-Y \\\\\n",
    "$$\n",
    "\n",
    "\n",
    "3. Define the CNOT operator as a Numpy 2D array. Define the 2-qubit basis vectors $\\left |00 \\right >$,$\\left |01 \\right >$,$\\left |10 \\right >$,$\\left |11 \\right >$ as Numpy 1D arrays.\n",
    "Apply the CNOT operator on each of the basis vectors.\n",
    "\n",
    "3. (i) Define a function R(phi) that returns the phase shift matrix\n",
    "$$ \n",
    "R_{(\\phi)} = \\left( \\begin{array}{rr} 1 & 0 \\\\ 0 & e^{i\\phi} \\end{array}\\right), \\quad\n",
    "$$\n",
    "as a Numpy 2D array.\n",
    "\n",
    "(ii) Define the states $\\left |+ \\right >$ and $\\left |- \\right >$ as Numpy 1D arrays.\n",
    "\n",
    "(iii) Plot the probability $|\\left <-\\right |R_{(\\phi)}\\left |+ \\right >|^2$ as a function of $\\phi\\in[-\\pi,\\pi]$\n",
    "(this is the probability of measuring $\\left|- \\right >$ after $R_{(\\phi)}$ has acted on $\\left|+ \\right >$\n",
    "\n",
    "5. import the qiskit module. By modifying the example code from:\n",
    "https://qiskit.org/documentation/getting_started.html \n",
    "create the following circuit and measure the qubits `q_0` and `q_1`. Here `c_0` and `c_1` are classical registers (e.g. the screens of the detectors).\n",
    "\n",
    "\n",
    "```\n",
    "             ┌───┐     ┌─┐   \n",
    "q_0: |0>─────┤ X ├─────┤M├───\n",
    "        ┌───┐└─┬─┘┌───┐└╥┘┌─┐\n",
    "q_1: |0>┤ H ├──■──┤ H ├─╫─┤M├\n",
    "        └───┘     └───┘ ║ └╥┘\n",
    " c_0: 0 ════════════════╩══╬═\n",
    "                           ║ \n",
    " c_1: 0 ═══════════════════╩═\n",
    "                             \n",
    "```"
   ]
  },
  {
   "cell_type": "markdown",
   "metadata": {},
   "source": [
    "### Hints"
   ]
  },
  {
   "cell_type": "markdown",
   "metadata": {},
   "source": [
    "2. you may find useful the functions ` np.array_equal( ) , np.conj() , np.transpose()  `. For matrix multiplication look for the `np.dot()` function.\n",
    "\n",
    "4  for plotting you need an array for angles on the xaxis like e.g `np.linspace(-np.pi,np.pi,100)`\n",
    "and an array of probabilities for the y axis. So you need to write some kind of function/map that loops the angles and gives the probailities. A list comprehension would be the best approach.\n"
   ]
  },
  {
   "cell_type": "code",
   "execution_count": 1,
   "metadata": {},
   "outputs": [],
   "source": [
    "import matplotlib.pyplot as plt\n",
    "import numpy as np\n",
    "e = np.e\n",
    "from qiskit import(\n",
    "  QuantumCircuit,\n",
    "  execute,\n",
    "  Aer)\n",
    "from qiskit.visualization import plot_histogram"
   ]
  },
  {
   "cell_type": "code",
   "execution_count": 2,
   "metadata": {},
   "outputs": [],
   "source": [
    "c = np.array([1.5 - 1j, -0.5 + (np.sqrt(3)/2)*1j, 0.3 + 0.4j, 0.8*e**(-1j*(np.pi/4)), 1.0*e**(1j*(-np.pi/8)),\n",
    "              1.0*e**(-1j*(np.pi/8)), 1.5*e**(-1j*(np.pi*3/2))])"
   ]
  },
  {
   "cell_type": "code",
   "execution_count": 3,
   "metadata": {},
   "outputs": [],
   "source": [
    "modulus = np.absolute(c[:3])\n",
    "angle = np.angle(c[:3])\n",
    "real = np.real(c[3:])\n",
    "imaginary = np.imag(c[3:])"
   ]
  },
  {
   "cell_type": "code",
   "execution_count": 4,
   "metadata": {},
   "outputs": [
    {
     "name": "stdout",
     "output_type": "stream",
     "text": [
      "[1.80277564 1.         0.5       ]\n",
      "[-0.5880026   2.0943951   0.92729522]\n",
      "[ 5.65685425e-01  9.23879533e-01  9.23879533e-01 -2.75545530e-16]\n",
      "[-0.56568542 -0.38268343 -0.38268343  1.5       ]\n"
     ]
    }
   ],
   "source": [
    "print(modulus)\n",
    "print(angle)\n",
    "print(real)\n",
    "print(imaginary)"
   ]
  },
  {
   "cell_type": "code",
   "execution_count": 5,
   "metadata": {},
   "outputs": [
    {
     "data": {
      "text/plain": [
       "<matplotlib.collections.PathCollection at 0x7fd49dedea90>"
      ]
     },
     "execution_count": 5,
     "metadata": {},
     "output_type": "execute_result"
    },
    {
     "data": {
      "image/png": "[encoded data removed]",
      "text/plain": [
       "<Figure size 432x288 with 1 Axes>"
      ]
     },
     "metadata": {
      "needs_background": "light"
     },
     "output_type": "display_data"
    }
   ],
   "source": [
    "x_cord = np.real(c)\n",
    "y_cord = np.imag(c)\n",
    "\n",
    "plt.scatter(x_cord, y_cord)"
   ]
  },
  {
   "cell_type": "code",
   "execution_count": 6,
   "metadata": {},
   "outputs": [
    {
     "data": {
      "image/png": "[encoded data removed]",
      "text/plain": [
       "<Figure size 432x288 with 1 Axes>"
      ]
     },
     "metadata": {
      "needs_background": "light"
     },
     "output_type": "display_data"
    }
   ],
   "source": [
    "radius = np.absolute(c)\n",
    "theta = np.angle(c)\n",
    "\n",
    "fig = plt.figure()\n",
    "ax = fig.add_subplot(projection='polar')\n",
    "ax.set_ylim([0, 2])\n",
    "circle = plt.Circle((0, 0), 1, transform=ax.transData._b, fill=False, edgecolor='red', linewidth=2, zorder=10)\n",
    "plt.gca().add_artist(circle)\n",
    "col = ['r' if i <=1 else 'b' for i in radius]\n",
    "d = ax.scatter(theta, radius, c=col)"
   ]
  },
  {
   "cell_type": "code",
   "execution_count": 7,
   "metadata": {},
   "outputs": [
    {
     "name": "stdout",
     "output_type": "stream",
     "text": [
      "X \n",
      " [[0. 1.]\n",
      " [1. 0.]]\n",
      "Y \n",
      " [[ 0.+0.j -0.-1.j]\n",
      " [ 0.+1.j  0.+0.j]]\n",
      "Z \n",
      " [[ 1.  0.]\n",
      " [ 0. -1.]]\n",
      "H \n",
      " [[ 0.70710678  0.70710678]\n",
      " [ 0.70710678 -0.70710678]]\n"
     ]
    }
   ],
   "source": [
    "X = np.array([[0.0, 1.0], [1.0, 0.0]])\n",
    "Y = np.array([[0, -1j], [1j, 0]])\n",
    "Z = np.array([[1.0, 0.0], [0.0, -1.0]])\n",
    "H = np.array([[1/np.sqrt(2), 1/np.sqrt(2)], [1/np.sqrt(2), -1/np.sqrt(2)]])\n",
    "print(\"X \\n\", X)\n",
    "print(\"Y \\n\", Y)\n",
    "print(\"Z \\n\", Z)\n",
    "print(\"H \\n\", H)"
   ]
  },
  {
   "cell_type": "code",
   "execution_count": 8,
   "metadata": {},
   "outputs": [],
   "source": [
    "def hermitian(mat):\n",
    "    return np.array_equal(np.conj(np.transpose(mat)), mat)"
   ]
  },
  {
   "cell_type": "code",
   "execution_count": 9,
   "metadata": {},
   "outputs": [
    {
     "name": "stdout",
     "output_type": "stream",
     "text": [
      "Is X hermitian? True\n",
      "Is Y hermitian? True\n",
      "Is Z hermitian? True\n",
      "Is H hermitian? True\n"
     ]
    }
   ],
   "source": [
    "print(\"Is X hermitian?\" , hermitian(X))\n",
    "print(\"Is Y hermitian?\" , hermitian(Y))\n",
    "print(\"Is Z hermitian?\" , hermitian(Z))\n",
    "print(\"Is H hermitian?\" , hermitian(H))"
   ]
  },
  {
   "cell_type": "code",
   "execution_count": 10,
   "metadata": {},
   "outputs": [
    {
     "name": "stdout",
     "output_type": "stream",
     "text": [
      "Does HZH = X?:  True\n",
      "Does HXH = Z?:  True\n",
      "Does HYH = -Y?:  True\n"
     ]
    }
   ],
   "source": [
    "print(\"Does HZH = X?: \", np.allclose(np.dot(np.dot(H, Z) ,H), X))\n",
    "print(\"Does HXH = Z?: \", np.allclose(np.dot(np.dot(H, X) ,H), Z))\n",
    "print(\"Does HYH = -Y?: \", np.allclose(np.dot(np.dot(H, Y) ,H), -Y))"
   ]
  },
  {
   "cell_type": "code",
   "execution_count": 11,
   "metadata": {},
   "outputs": [],
   "source": [
    "CNOT = np.array([[1,0,0,0],[0,1,0,0],[0,0,0,1],[0,0,1,0]])\n",
    "zero_zero = np.array([[1],[0],[0],[0]])\n",
    "zero_one = np.array([[0],[1],[0],[0]])\n",
    "one_zero = np.array([[0],[0],[1],[0]])\n",
    "one_one = np.array([[0],[0],[0],[1]])"
   ]
  },
  {
   "cell_type": "code",
   "execution_count": 12,
   "metadata": {},
   "outputs": [
    {
     "name": "stdout",
     "output_type": "stream",
     "text": [
      "[[1]\n",
      " [0]\n",
      " [0]\n",
      " [0]]\n",
      "[[0]\n",
      " [1]\n",
      " [0]\n",
      " [0]]\n",
      "[[0]\n",
      " [0]\n",
      " [0]\n",
      " [1]]\n",
      "[[0]\n",
      " [0]\n",
      " [1]\n",
      " [0]]\n"
     ]
    }
   ],
   "source": [
    "CNOT_zero_zero = np.dot(CNOT, zero_zero)\n",
    "CNOT_zero_one = np.dot(CNOT, zero_one)\n",
    "CNOT_one_zero = np.dot(CNOT, one_zero)\n",
    "CNOT_one_one = np.dot(CNOT, one_one)\n",
    "\n",
    "print(CNOT_zero_zero)\n",
    "print(CNOT_zero_one)\n",
    "print(CNOT_one_zero)\n",
    "print(CNOT_one_one)"
   ]
  },
  {
   "cell_type": "code",
   "execution_count": 13,
   "metadata": {},
   "outputs": [],
   "source": [
    "def R(phi):\n",
    "    return np.array([[1, 0], [0, e**(-phi*1j)]])"
   ]
  },
  {
   "cell_type": "code",
   "execution_count": 14,
   "metadata": {},
   "outputs": [],
   "source": [
    "plus = np.array([1/np.sqrt(2), 1/np.sqrt(2)])\n",
    "neg = np.array([1/np.sqrt(2), -1/np.sqrt(2)])"
   ]
  },
  {
   "cell_type": "code",
   "execution_count": 27,
   "metadata": {},
   "outputs": [],
   "source": [
    "xData = np.linspace(-np.pi, np.pi, 100)\n",
    "yData = [ np.linalg.norm(np.dot(np.dot(R(i), plus), neg))**2 for i in xData]"
   ]
  },
  {
   "cell_type": "code",
   "execution_count": 28,
   "metadata": {},
   "outputs": [
    {
     "data": {
      "text/plain": [
       "[<matplotlib.lines.Line2D at 0x7fd49d34aa10>]"
      ]
     },
     "execution_count": 28,
     "metadata": {},
     "output_type": "execute_result"
    },
    {
     "data": {
      "image/png": "[encoded data removed]",
      "text/plain": [
       "<Figure size 432x288 with 1 Axes>"
      ]
     },
     "metadata": {
      "needs_background": "light"
     },
     "output_type": "display_data"
    }
   ],
   "source": [
    "plt.title('plot of 3.iii from -pi to pi')\n",
    "plt.plot(xData, yData)"
   ]
  },
  {
   "cell_type": "code",
   "execution_count": 22,
   "metadata": {},
   "outputs": [
    {
     "name": "stdout",
     "output_type": "stream",
     "text": [
      "\n",
      "Total count for 00 and 11 are: {'00': 243, '11': 236, '10': 270, '01': 251}\n"
     ]
    },
    {
     "data": {
      "text/html": [
       "<pre style=\"word-wrap: normal;white-space: pre;background: #fff0;line-height: 1.1;font-family: &quot;Courier New&quot;,Courier,monospace\">             ┌───┐     ┌─┐   \n",
       "q_0: |0>─────┤ X ├─────┤M├───\n",
       "        ┌───┐└─┬─┘┌───┐└╥┘┌─┐\n",
       "q_1: |0>┤ H ├──■──┤ H ├─╫─┤M├\n",
       "        └───┘     └───┘ ║ └╥┘\n",
       " c_0: 0 ════════════════╩══╬═\n",
       "                           ║ \n",
       " c_1: 0 ═══════════════════╩═\n",
       "                             </pre>"
      ],
      "text/plain": [
       "             ┌───┐     ┌─┐   \n",
       "q_0: |0>─────┤ X ├─────┤M├───\n",
       "        ┌───┐└─┬─┘┌───┐└╥┘┌─┐\n",
       "q_1: |0>┤ H ├──■──┤ H ├─╫─┤M├\n",
       "        └───┘     └───┘ ║ └╥┘\n",
       " c_0: 0 ════════════════╩══╬═\n",
       "                           ║ \n",
       " c_1: 0 ═══════════════════╩═\n",
       "                             "
      ]
     },
     "execution_count": 22,
     "metadata": {},
     "output_type": "execute_result"
    }
   ],
   "source": [
    "# Use Aer's qasm_simulator\n",
    "simulator = Aer.get_backend('qasm_simulator')\n",
    "\n",
    "# Create a Quantum Circuit acting on the q register\n",
    "circuit = QuantumCircuit(2, 2)\n",
    "\n",
    "# Add a H gate on qubit 1\n",
    "circuit.h(1)\n",
    "\n",
    "# Add a CX (CNOT) gate on control qubit 1 and target qubit 0\n",
    "circuit.cx(1, 0)\n",
    "\n",
    "circuit.h(1)\n",
    "\n",
    "# Map the quantum measurement to the classical bits\n",
    "circuit.measure([0,1], [0,1])\n",
    "\n",
    "# Execute the circuit on the qasm simulator\n",
    "job = execute(circuit, simulator, shots=1000)\n",
    "\n",
    "# Grab results from the job\n",
    "result = job.result()\n",
    "\n",
    "# Returns counts\n",
    "counts = result.get_counts(circuit)\n",
    "print(\"\\nTotal count for 00 and 11 are:\",counts)\n",
    "\n",
    "# Draw the circuit\n",
    "circuit.draw()"
   ]
  },
  {
   "cell_type": "code",
   "execution_count": 23,
   "metadata": {},
   "outputs": [
    {
     "data": {
      "image/png": "[encoded data removed]",
      "text/plain": [
       "<Figure size 504x360 with 1 Axes>"
      ]
     },
     "execution_count": 23,
     "metadata": {},
     "output_type": "execute_result"
    }
   ],
   "source": [
    "plot_histogram(counts)"
   ]
  },
  {
   "cell_type": "code",
   "execution_count": null,
   "metadata": {},
   "outputs": [],
   "source": []
  }
 ],
 "metadata": {
  "kernelspec": {
   "display_name": "Python 3",
   "language": "python",
   "name": "python3"
  },
  "language_info": {
   "codemirror_mode": {
    "name": "ipython",
    "version": 3
   },
   "file_extension": ".py",
   "mimetype": "text/x-python",
   "name": "python",
   "nbconvert_exporter": "python",
   "pygments_lexer": "ipython3",
   "version": "3.7.5"
  }
 },
 "nbformat": 4,
 "nbformat_minor": 4
}
